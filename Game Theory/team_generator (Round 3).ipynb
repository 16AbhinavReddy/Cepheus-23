{
 "cells": [
  {
   "cell_type": "code",
   "execution_count": 1,
   "metadata": {},
   "outputs": [],
   "source": [
    "import random\n",
    "import pandas as pd"
   ]
  },
  {
   "cell_type": "code",
   "execution_count": 2,
   "metadata": {},
   "outputs": [],
   "source": [
    "data = pd.read_csv(\"Current LeaderBoard.csv\")\n",
    "y = data[\"Enter your Name\"].iloc[:15].to_list()\n",
    "t1 = []\n",
    "t2 = []\n",
    "t3 = []"
   ]
  },
  {
   "cell_type": "code",
   "execution_count": 3,
   "metadata": {},
   "outputs": [],
   "source": [
    "while (len(y) != 0):\n",
    "    x = random.choice(y)\n",
    "    if ((len(t1) == len(t2)) and (len(t2) == len(t3))):\n",
    "        t1.append(x)\n",
    "        y.remove(x)\n",
    "    elif ((len(t1) > len(t2)) and (len(t2) == len(t3))):\n",
    "        t2.append(x)\n",
    "        y.remove(x)\n",
    "    elif ((len(t1) == len(t2)) and (len(t2) > len(t3))):\n",
    "        t3.append(x)\n",
    "        y.remove(x)"
   ]
  },
  {
   "cell_type": "code",
   "execution_count": 4,
   "metadata": {},
   "outputs": [
    {
     "name": "stdout",
     "output_type": "stream",
     "text": [
      "Team A:  ['CEPHEUS273', 'CEPHEUS940', 'CEPHEUS644', 'CEPHEUS640', 'CEPHEUS117']\n",
      "Team B:  ['CEPHEUS795', 'CEPHEUS101', 'CEPHEUS781', 'CEPHEUS136', 'CEPHEUS824']\n",
      "Team C:  ['CEPHEUS977', 'CEPHEUS262', 'CEPHEUS939', 'CEPHEUS697', 'CEPHEUS152']\n"
     ]
    }
   ],
   "source": [
    "print(\"Team A: \", t1)\n",
    "print(\"Team B: \", t2)\n",
    "print(\"Team C: \", t3)"
   ]
  },
  {
   "cell_type": "code",
   "execution_count": 5,
   "metadata": {},
   "outputs": [
    {
     "data": {
      "text/html": [
       "<div>\n",
       "<style scoped>\n",
       "    .dataframe tbody tr th:only-of-type {\n",
       "        vertical-align: middle;\n",
       "    }\n",
       "\n",
       "    .dataframe tbody tr th {\n",
       "        vertical-align: top;\n",
       "    }\n",
       "\n",
       "    .dataframe thead th {\n",
       "        text-align: right;\n",
       "    }\n",
       "</style>\n",
       "<table border=\"1\" class=\"dataframe\">\n",
       "  <thead>\n",
       "    <tr style=\"text-align: right;\">\n",
       "      <th></th>\n",
       "      <th>Team - A</th>\n",
       "      <th>Team - B</th>\n",
       "      <th>Team - C</th>\n",
       "    </tr>\n",
       "  </thead>\n",
       "  <tbody>\n",
       "    <tr>\n",
       "      <th>0</th>\n",
       "      <td>CEPHEUS273</td>\n",
       "      <td>CEPHEUS795</td>\n",
       "      <td>CEPHEUS977</td>\n",
       "    </tr>\n",
       "    <tr>\n",
       "      <th>1</th>\n",
       "      <td>CEPHEUS940</td>\n",
       "      <td>CEPHEUS101</td>\n",
       "      <td>CEPHEUS262</td>\n",
       "    </tr>\n",
       "    <tr>\n",
       "      <th>2</th>\n",
       "      <td>CEPHEUS644</td>\n",
       "      <td>CEPHEUS781</td>\n",
       "      <td>CEPHEUS939</td>\n",
       "    </tr>\n",
       "    <tr>\n",
       "      <th>3</th>\n",
       "      <td>CEPHEUS640</td>\n",
       "      <td>CEPHEUS136</td>\n",
       "      <td>CEPHEUS697</td>\n",
       "    </tr>\n",
       "    <tr>\n",
       "      <th>4</th>\n",
       "      <td>CEPHEUS117</td>\n",
       "      <td>CEPHEUS824</td>\n",
       "      <td>CEPHEUS152</td>\n",
       "    </tr>\n",
       "  </tbody>\n",
       "</table>\n",
       "</div>"
      ],
      "text/plain": [
       "     Team - A    Team - B    Team - C\n",
       "0  CEPHEUS273  CEPHEUS795  CEPHEUS977\n",
       "1  CEPHEUS940  CEPHEUS101  CEPHEUS262\n",
       "2  CEPHEUS644  CEPHEUS781  CEPHEUS939\n",
       "3  CEPHEUS640  CEPHEUS136  CEPHEUS697\n",
       "4  CEPHEUS117  CEPHEUS824  CEPHEUS152"
      ]
     },
     "execution_count": 5,
     "metadata": {},
     "output_type": "execute_result"
    }
   ],
   "source": [
    "final_data = pd.DataFrame()\n",
    "final_data[\"Team - A\"] = pd.DataFrame(t1)\n",
    "final_data[\"Team - B\"] = pd.DataFrame(t2)\n",
    "final_data[\"Team - C\"] = pd.DataFrame(t3)\n",
    "final_data"
   ]
  },
  {
   "cell_type": "code",
   "execution_count": 6,
   "metadata": {},
   "outputs": [],
   "source": [
    "final_data.to_csv(\"Round-3 Teams.csv\")"
   ]
  }
 ],
 "metadata": {
  "kernelspec": {
   "display_name": "Python 3",
   "language": "python",
   "name": "python3"
  },
  "language_info": {
   "codemirror_mode": {
    "name": "ipython",
    "version": 3
   },
   "file_extension": ".py",
   "mimetype": "text/x-python",
   "name": "python",
   "nbconvert_exporter": "python",
   "pygments_lexer": "ipython3",
   "version": "3.10.0"
  },
  "orig_nbformat": 4,
  "vscode": {
   "interpreter": {
    "hash": "17a1a53311e7b79477d19c8f3e14834553198dc5b189e9408f95eaac2f2cbe44"
   }
  }
 },
 "nbformat": 4,
 "nbformat_minor": 2
}
