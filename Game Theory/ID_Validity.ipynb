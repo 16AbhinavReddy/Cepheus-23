{
 "cells": [
  {
   "cell_type": "code",
   "execution_count": 54,
   "metadata": {},
   "outputs": [],
   "source": [
    "ID = ['CEPHEUS438', 'CEPHEUS597', 'CEPHEUS117']"
   ]
  },
  {
   "cell_type": "code",
   "execution_count": 55,
   "metadata": {},
   "outputs": [
    {
     "name": "stdout",
     "output_type": "stream",
     "text": [
      "Valid\n"
     ]
    }
   ],
   "source": [
    "id = int(input())\n",
    "string = \"CEPHEUS\" + str(id)\n",
    "if string in ID:\n",
    "    print(\"Valid\")\n",
    "else:\n",
    "    print(\"Not Valid\")"
   ]
  }
 ],
 "metadata": {
  "kernelspec": {
   "display_name": "Python 3",
   "language": "python",
   "name": "python3"
  },
  "language_info": {
   "codemirror_mode": {
    "name": "ipython",
    "version": 3
   },
   "file_extension": ".py",
   "mimetype": "text/x-python",
   "name": "python",
   "nbconvert_exporter": "python",
   "pygments_lexer": "ipython3",
   "version": "3.10.0"
  },
  "orig_nbformat": 4,
  "vscode": {
   "interpreter": {
    "hash": "17a1a53311e7b79477d19c8f3e14834553198dc5b189e9408f95eaac2f2cbe44"
   }
  }
 },
 "nbformat": 4,
 "nbformat_minor": 2
}
